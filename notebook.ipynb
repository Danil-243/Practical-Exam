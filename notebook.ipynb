{
 "cells": [
  {
   "cell_type": "markdown",
   "id": "1e20b471-43f1-4e12-afb1-aa7825d8cc69",
   "metadata": {},
   "source": [
    "# Data Scientist Associate Practical Exam Submission\n",
    "\n"
   ]
  },
  {
   "cell_type": "markdown",
   "id": "8ad53b88-001e-43ee-bd17-618f804cb180",
   "metadata": {},
   "source": [
    "# Data Quality"
   ]
  },
  {
   "cell_type": "markdown",
   "id": "836353de-534f-460d-b9ce-e92cc3646c65",
   "metadata": {},
   "source": [
    "## Task 1 \n",
    "The dataset contains **1500 rows** and **8 columns** with missing values before cleaning. I have validated all the columns against the criteria in the dataset table:\n",
    "\n",
    "1) **booking_id**: Same as description without missing values.\n",
    "2) **months_as_member**: Same as description without missing values.\n",
    "3) **weight**: 20 missing values, so I replaced missing values with the overall average weight.\n",
    "4) **days_before**: I removed characters from the column. Also, I converted it to an 'int' type. Without missing values. \n",
    "5) **day_of_week**: I changed some of the names so that it is as instructed. Also, I converted it to a 'category' type. Without missing values.\n",
    "6) **time**: I converted it to a 'category' type. Without missing values.\n",
    "7) **category**: I replaced '-' values with 'unknown' since it didn't really reflect any category. There were 13 such values. I converted it to a 'category' type.\n",
    "8) **attended**: Same as description without missing values.\n",
    "\n",
    "After the data validation, the dataset contains **1500 rows** and **8 columns**."
   ]
  },
  {
   "cell_type": "markdown",
   "id": "237e186f-1ef2-477b-9ddf-4f86bc8501ea",
   "metadata": {},
   "source": [
    "### Original Dataset"
   ]
  },
  {
   "cell_type": "code",
   "execution_count": 1,
   "id": "8a5e343c-48e0-492b-87a9-be5d0baf18d9",
   "metadata": {
    "executionTime": 171,
    "lastSuccessfullyExecutedCode": "# Data Validation\n\nimport pandas as pd\nimport matplotlib.pyplot as plt\nimport seaborn as sns\nimport numpy as np\n\ndf = pd.read_csv('https://s3.amazonaws.com/talent-assets.datacamp.com/fitness_class_2212.csv')\ndf.info()\npd.set_option('display.max_columns', None)\npd.set_option('display.max_rows', None)\nprint(df.head(200))"
   },
   "outputs": [
    {
     "name": "stdout",
     "output_type": "stream",
     "text": [
      "<class 'pandas.core.frame.DataFrame'>\n",
      "RangeIndex: 1500 entries, 0 to 1499\n",
      "Data columns (total 8 columns):\n",
      " #   Column            Non-Null Count  Dtype  \n",
      "---  ------            --------------  -----  \n",
      " 0   booking_id        1500 non-null   int64  \n",
      " 1   months_as_member  1500 non-null   int64  \n",
      " 2   weight            1480 non-null   float64\n",
      " 3   days_before       1500 non-null   object \n",
      " 4   day_of_week       1500 non-null   object \n",
      " 5   time              1500 non-null   object \n",
      " 6   category          1500 non-null   object \n",
      " 7   attended          1500 non-null   int64  \n",
      "dtypes: float64(1), int64(3), object(4)\n",
      "memory usage: 93.9+ KB\n",
      "    booking_id  months_as_member  weight days_before day_of_week time  \\\n",
      "0            1                17   79.56           8         Wed   PM   \n",
      "1            2                10   79.01           2         Mon   AM   \n",
      "2            3                16   74.53          14         Sun   AM   \n",
      "3            4                 5   86.12          10         Fri   AM   \n",
      "4            5                15   69.29           8         Thu   AM   \n",
      "5            6                 7   93.33           2         Mon   AM   \n",
      "6            7                11   88.59           6   Wednesday   PM   \n",
      "7            8                 9   89.52          10         Fri   AM   \n",
      "8            9                23   71.12          10        Fri.   AM   \n",
      "9           10                 7   81.25          10         Fri   AM   \n",
      "10          11                13   73.22           4         Tue   AM   \n",
      "11          12                16   86.86          10         Fri   AM   \n",
      "12          13                16   71.70          14         Sun   AM   \n",
      "13          14                 8   81.32           4         Tue   AM   \n",
      "14          15                 9   77.35          10         Fri   AM   \n",
      "15          16                 9   82.42          14         Sun   AM   \n",
      "16          17                22   69.52          14         Sun   AM   \n",
      "17          18                 6   79.01           9         Thu   PM   \n",
      "18          19                33   81.55           8         Thu   AM   \n",
      "19          20                10   72.93           4         Tue   AM   \n",
      "\n",
      "    category  attended  \n",
      "0   Strength         0  \n",
      "1       HIIT         0  \n",
      "2   Strength         0  \n",
      "3    Cycling         0  \n",
      "4       HIIT         0  \n",
      "5    Cycling         0  \n",
      "6       HIIT         0  \n",
      "7       HIIT         0  \n",
      "8       HIIT         1  \n",
      "9       HIIT         0  \n",
      "10   Cycling         0  \n",
      "11   Cycling         0  \n",
      "12  Strength         1  \n",
      "13   Cycling         0  \n",
      "14   Cycling         0  \n",
      "15      HIIT         1  \n",
      "16  Strength         1  \n",
      "17      Yoga         0  \n",
      "18   Cycling         1  \n",
      "19   Cycling         1  \n"
     ]
    }
   ],
   "source": [
    "# Data Validation\n",
    "\n",
    "import pandas as pd\n",
    "import matplotlib.pyplot as plt\n",
    "import seaborn as sns\n",
    "import numpy as np\n",
    "\n",
    "df = pd.read_csv('https://s3.amazonaws.com/talent-assets.datacamp.com/fitness_class_2212.csv')\n",
    "df.info()\n",
    "pd.set_option('display.max_columns', None)\n",
    "pd.set_option('display.max_rows', None)\n",
    "print(df.head(20))"
   ]
  },
  {
   "cell_type": "markdown",
   "id": "d74eba05-44f3-4018-bcd1-8a7a3352d4e1",
   "metadata": {},
   "source": [
    "### After replacing missing values with the overall average weight in the 'weight' column"
   ]
  },
  {
   "cell_type": "code",
   "execution_count": 618,
   "id": "c9a18ac4-b949-46df-a0de-ba1d2027936e",
   "metadata": {
    "executionTime": 14,
    "lastSuccessfullyExecutedCode": "df['weight'] = df['weight'].fillna(df['weight'].mean())\ndf.info()\nprint('\\n', df['weight'].min(), '- minimum value.')"
   },
   "outputs": [
    {
     "name": "stdout",
     "output_type": "stream",
     "text": [
      "<class 'pandas.core.frame.DataFrame'>\n",
      "RangeIndex: 1500 entries, 0 to 1499\n",
      "Data columns (total 8 columns):\n",
      " #   Column            Non-Null Count  Dtype  \n",
      "---  ------            --------------  -----  \n",
      " 0   booking_id        1500 non-null   int64  \n",
      " 1   months_as_member  1500 non-null   int64  \n",
      " 2   weight            1500 non-null   float64\n",
      " 3   days_before       1500 non-null   object \n",
      " 4   day_of_week       1500 non-null   object \n",
      " 5   time              1500 non-null   object \n",
      " 6   category          1500 non-null   object \n",
      " 7   attended          1500 non-null   int64  \n",
      "dtypes: float64(1), int64(3), object(4)\n",
      "memory usage: 93.9+ KB\n",
      "\n",
      " 55.41 - minimum value.\n"
     ]
    }
   ],
   "source": [
    "df['weight'] = df['weight'].fillna(df['weight'].mean())\n",
    "df.info()\n",
    "print('\\n', df['weight'].min(), '- minimum value.')"
   ]
  },
  {
   "cell_type": "markdown",
   "id": "5e31c133-4069-4fc1-b6b6-b1d870a70467",
   "metadata": {},
   "source": [
    "### After stripping some values and converting the data type in the 'days_before' column"
   ]
  },
  {
   "cell_type": "code",
   "execution_count": 619,
   "id": "b0e7cc5e-5880-4aa0-85e5-5bda58d96e22",
   "metadata": {
    "executionTime": 48,
    "lastSuccessfullyExecutedCode": "df['days_before'] = df['days_before'].str.strip('days').astype('int')\ndf.info()\nprint('\\n', df['days_before'].min(), '- minimum value.')\nprint('\\n', df.head(100))"
   },
   "outputs": [
    {
     "name": "stdout",
     "output_type": "stream",
     "text": [
      "<class 'pandas.core.frame.DataFrame'>\n",
      "RangeIndex: 1500 entries, 0 to 1499\n",
      "Data columns (total 8 columns):\n",
      " #   Column            Non-Null Count  Dtype  \n",
      "---  ------            --------------  -----  \n",
      " 0   booking_id        1500 non-null   int64  \n",
      " 1   months_as_member  1500 non-null   int64  \n",
      " 2   weight            1500 non-null   float64\n",
      " 3   days_before       1500 non-null   int64  \n",
      " 4   day_of_week       1500 non-null   object \n",
      " 5   time              1500 non-null   object \n",
      " 6   category          1500 non-null   object \n",
      " 7   attended          1500 non-null   int64  \n",
      "dtypes: float64(1), int64(4), object(3)\n",
      "memory usage: 93.9+ KB\n",
      "\n",
      " 1 - minimum value.\n",
      "\n",
      "     booking_id  months_as_member  weight  days_before day_of_week time  \\\n",
      "0            1                17   79.56            8         Wed   PM   \n",
      "1            2                10   79.01            2         Mon   AM   \n",
      "2            3                16   74.53           14         Sun   AM   \n",
      "3            4                 5   86.12           10         Fri   AM   \n",
      "4            5                15   69.29            8         Thu   AM   \n",
      "5            6                 7   93.33            2         Mon   AM   \n",
      "6            7                11   88.59            6   Wednesday   PM   \n",
      "7            8                 9   89.52           10         Fri   AM   \n",
      "8            9                23   71.12           10        Fri.   AM   \n",
      "9           10                 7   81.25           10         Fri   AM   \n",
      "10          11                13   73.22            4         Tue   AM   \n",
      "11          12                16   86.86           10         Fri   AM   \n",
      "12          13                16   71.70           14         Sun   AM   \n",
      "13          14                 8   81.32            4         Tue   AM   \n",
      "14          15                 9   77.35           10         Fri   AM   \n",
      "15          16                 9   82.42           14         Sun   AM   \n",
      "16          17                22   69.52           14         Sun   AM   \n",
      "17          18                 6   79.01            9         Thu   PM   \n",
      "18          19                33   81.55            8         Thu   AM   \n",
      "19          20                10   72.93            4         Tue   AM   \n",
      "20          21                24   68.35           12         Sat   PM   \n",
      "21          22                14   94.72            2         Mon   AM   \n",
      "22          23                 2   92.87           10         Fri   AM   \n",
      "23          24                12   91.74           10         Fri   AM   \n",
      "24          25                 8   92.24            2         Mon   AM   \n",
      "25          26                 2   85.67            2         Mon   AM   \n",
      "26          27                12   76.56            2         Mon   AM   \n",
      "27          28                26   82.87            4         Tue   PM   \n",
      "28          29                28   87.19            2         Mon   AM   \n",
      "29          30                27   98.91           12         Sat   AM   \n",
      "30          31                 8   79.96            4         Tue   AM   \n",
      "31          32                 8   84.87            2         Mon   AM   \n",
      "32          33                 1   88.75            4         Tue   AM   \n",
      "33          34                 6   86.67           10         Fri   AM   \n",
      "34          35                 3   81.58           10         Fri   AM   \n",
      "35          36                 6   83.13            9         Thu   PM   \n",
      "36          37                24   73.49            4         Tue   AM   \n",
      "37          38                 8   79.36           12         Sat   AM   \n",
      "38          39                27   78.81           10         Fri   AM   \n",
      "39          40                 7   97.26           10         Fri   AM   \n",
      "40          41                 5   93.33           14         Sun   AM   \n",
      "41          42                14   83.16           10         Thu   PM   \n",
      "42          43                 7   90.00           14         Sun   PM   \n",
      "43          44                 9  112.15           10         Fri   AM   \n",
      "44          45                 6  108.20            8         Wed   PM   \n",
      "45          46                 5  104.19            2         Mon   AM   \n",
      "46          47                21   67.81            4         Tue   PM   \n",
      "47          48                17   81.98            2         Mon   AM   \n",
      "48          49                10   81.56           14         Sun   AM   \n",
      "49          50                18   79.57            2         Mon   AM   \n",
      "50          51                 8   85.39            8         Thu   AM   \n",
      "51          52                19   69.65            2         Mon   AM   \n",
      "52          53                12   77.09           10         Fri   AM   \n",
      "53          54                19   65.65            4         Tue   AM   \n",
      "54          55                53   61.10           10        Fri.   AM   \n",
      "55          56                17   71.35            4         Tue   PM   \n",
      "56          57                 3  100.90           10         Fri   AM   \n",
      "57          58                12   79.68            2         Mon   AM   \n",
      "58          59                19   72.23           10        Fri.   AM   \n",
      "59          60                16   67.53            8         Thu   AM   \n",
      "60          61                 8  101.32            5         Tue   PM   \n",
      "61          62                 6   81.44            2      Monday   AM   \n",
      "62          63                 9   76.05            4         Tue   AM   \n",
      "63          64                10  100.44            8         Thu   AM   \n",
      "64          65                 2  107.03            2         Mon   AM   \n",
      "65          66                20   76.07            4         Tue   AM   \n",
      "66          67                11   71.54            8         Thu   AM   \n",
      "67          68                 8   72.63           14         Sun   PM   \n",
      "68          69                 9   82.13           10         Thu   PM   \n",
      "69          70                 2  108.82           10         Fri   AM   \n",
      "70          71                17   74.57            3         Mon   AM   \n",
      "71          72                11   74.75           10         Fri   AM   \n",
      "72          73                 8   85.86            7   Wednesday   PM   \n",
      "73          74                28   73.78            5         Wed   PM   \n",
      "74          75                34   75.34           10         Fri   AM   \n",
      "75          76                20   60.10            2         Mon   AM   \n",
      "76          77                 5   94.70            6         Wed   AM   \n",
      "77          78                12   97.11            8         Thu   AM   \n",
      "78          79                14   69.00           14         Sun   AM   \n",
      "79          80                11   82.16           13         Sat   AM   \n",
      "80          81                10   94.97            8         Thu   AM   \n",
      "81          82                11   85.79            8         Thu   PM   \n",
      "82          83                 6  117.19           10         Fri   AM   \n",
      "83          84                25   70.80           13         Sat   PM   \n",
      "84          85                 9   74.76            8         Thu   AM   \n",
      "85          86                 8   80.34           10         Fri   AM   \n",
      "86          87                17   86.53            7         Thu   PM   \n",
      "87          88                20   80.11           10        Fri.   AM   \n",
      "88          89                14   68.96           14         Sun   AM   \n",
      "89          90                32   77.57            6         Wed   AM   \n",
      "90          91                 3  112.47           10         Fri   AM   \n",
      "91          92                27   77.39            8         Thu   AM   \n",
      "92          93                73   66.00            8         Thu   AM   \n",
      "93          94                10   79.32           12         Sat   AM   \n",
      "94          95                 5   90.06            6   Wednesday   AM   \n",
      "95          96                20   75.34           10         Thu   PM   \n",
      "96          97                 7   81.69           12         Sat   AM   \n",
      "97          98                 6   80.74            8         Thu   PM   \n",
      "98          99                55   62.92            6         Wed   PM   \n",
      "99         100                 4  113.86            4         Tue   AM   \n",
      "\n",
      "    category  attended  \n",
      "0   Strength         0  \n",
      "1       HIIT         0  \n",
      "2   Strength         0  \n",
      "3    Cycling         0  \n",
      "4       HIIT         0  \n",
      "5    Cycling         0  \n",
      "6       HIIT         0  \n",
      "7       HIIT         0  \n",
      "8       HIIT         1  \n",
      "9       HIIT         0  \n",
      "10   Cycling         0  \n",
      "11   Cycling         0  \n",
      "12  Strength         1  \n",
      "13   Cycling         0  \n",
      "14   Cycling         0  \n",
      "15      HIIT         1  \n",
      "16  Strength         1  \n",
      "17      Yoga         0  \n",
      "18   Cycling         1  \n",
      "19   Cycling         1  \n",
      "20  Strength         1  \n",
      "21   Cycling         1  \n",
      "22  Strength         0  \n",
      "23  Strength         0  \n",
      "24  Strength         0  \n",
      "25      HIIT         0  \n",
      "26      HIIT         1  \n",
      "27      HIIT         0  \n",
      "28  Strength         1  \n",
      "29      Yoga         1  \n",
      "30      HIIT         1  \n",
      "31  Strength         0  \n",
      "32   Cycling         0  \n",
      "33      Yoga         0  \n",
      "34      HIIT         0  \n",
      "35   Cycling         0  \n",
      "36  Strength         1  \n",
      "37      HIIT         0  \n",
      "38      HIIT         1  \n",
      "39      HIIT         0  \n",
      "40      HIIT         0  \n",
      "41  Strength         0  \n",
      "42   Cycling         0  \n",
      "43      HIIT         0  \n",
      "44  Strength         0  \n",
      "45      HIIT         0  \n",
      "46      HIIT         0  \n",
      "47      HIIT         0  \n",
      "48  Strength         0  \n",
      "49  Strength         0  \n",
      "50      Yoga         0  \n",
      "51      Yoga         0  \n",
      "52      HIIT         0  \n",
      "53      HIIT         1  \n",
      "54      HIIT         1  \n",
      "55         -         0  \n",
      "56      HIIT         0  \n",
      "57      HIIT         0  \n",
      "58      Yoga         0  \n",
      "59      Yoga         0  \n",
      "60      Yoga         0  \n",
      "61      HIIT         0  \n",
      "62      HIIT         0  \n",
      "63      Aqua         0  \n",
      "64      Yoga         0  \n",
      "65      HIIT         0  \n",
      "66  Strength         0  \n",
      "67  Strength         1  \n",
      "68      HIIT         0  \n",
      "69      HIIT         0  \n",
      "70   Cycling         0  \n",
      "71      HIIT         0  \n",
      "72      HIIT         0  \n",
      "73      HIIT         1  \n",
      "74   Cycling         0  \n",
      "75      Aqua         0  \n",
      "76      HIIT         0  \n",
      "77      HIIT         1  \n",
      "78   Cycling         1  \n",
      "79      Yoga         0  \n",
      "80   Cycling         0  \n",
      "81      Yoga         0  \n",
      "82      HIIT         0  \n",
      "83      HIIT         1  \n",
      "84      HIIT         0  \n",
      "85      HIIT         0  \n",
      "86   Cycling         0  \n",
      "87      Yoga         1  \n",
      "88      Aqua         0  \n",
      "89   Cycling         0  \n",
      "90  Strength         0  \n",
      "91  Strength         1  \n",
      "92      HIIT         1  \n",
      "93      HIIT         1  \n",
      "94   Cycling         0  \n",
      "95   Cycling         1  \n",
      "96   Cycling         1  \n",
      "97      HIIT         0  \n",
      "98   Cycling         1  \n",
      "99      HIIT         0  \n"
     ]
    }
   ],
   "source": [
    "df['days_before'] = df['days_before'].str.strip('days').astype('int')\n",
    "df.info()\n",
    "print('\\n', df['days_before'].min(), '- minimum value.')\n",
    "print('\\n', df.head(100))"
   ]
  },
  {
   "cell_type": "markdown",
   "id": "9204cd6f-6115-4e65-b8f0-1585570bbefe",
   "metadata": {},
   "source": [
    "### After changing some values and converting the data type in the 'day_of_week' column"
   ]
  },
  {
   "cell_type": "code",
   "execution_count": 620,
   "id": "190c425e-a523-4942-9b18-d5de3821c2a7",
   "metadata": {
    "executionTime": 31,
    "lastSuccessfullyExecutedCode": "df['day_of_week'] = df['day_of_week'].str.replace('Monday', 'Mon')\ndf['day_of_week'] = df['day_of_week'].str.replace('Wednesday', 'Wed')\ndf['day_of_week'] = df['day_of_week'].str.replace('Fri.', 'Fri')\ndf['day_of_week'] = df['day_of_week'].astype('category')\ndf.info()\nprint('\\n', df['day_of_week'].unique())"
   },
   "outputs": [
    {
     "name": "stdout",
     "output_type": "stream",
     "text": [
      "<class 'pandas.core.frame.DataFrame'>\n",
      "RangeIndex: 1500 entries, 0 to 1499\n",
      "Data columns (total 8 columns):\n",
      " #   Column            Non-Null Count  Dtype   \n",
      "---  ------            --------------  -----   \n",
      " 0   booking_id        1500 non-null   int64   \n",
      " 1   months_as_member  1500 non-null   int64   \n",
      " 2   weight            1500 non-null   float64 \n",
      " 3   days_before       1500 non-null   int64   \n",
      " 4   day_of_week       1500 non-null   category\n",
      " 5   time              1500 non-null   object  \n",
      " 6   category          1500 non-null   object  \n",
      " 7   attended          1500 non-null   int64   \n",
      "dtypes: category(1), float64(1), int64(4), object(2)\n",
      "memory usage: 84.0+ KB\n",
      "\n",
      " ['Wed', 'Mon', 'Sun', 'Fri', 'Thu', 'Tue', 'Sat']\n",
      "Categories (7, object): ['Fri', 'Mon', 'Sat', 'Sun', 'Thu', 'Tue', 'Wed']\n"
     ]
    }
   ],
   "source": [
    "df['day_of_week'] = df['day_of_week'].str.replace('Monday', 'Mon')\n",
    "df['day_of_week'] = df['day_of_week'].str.replace('Wednesday', 'Wed')\n",
    "df['day_of_week'] = df['day_of_week'].str.replace('Fri.', 'Fri')\n",
    "df['day_of_week'] = df['day_of_week'].astype('category')\n",
    "df.info()\n",
    "print('\\n', df['day_of_week'].unique())"
   ]
  },
  {
   "cell_type": "markdown",
   "id": "28b19a25-43e8-4f5a-8d36-d9762890caa6",
   "metadata": {},
   "source": [
    "### After converting the data type in the 'time' column."
   ]
  },
  {
   "cell_type": "code",
   "execution_count": 621,
   "id": "7035138c-0552-4bc6-9ff0-ee90b38fc34a",
   "metadata": {
    "executionTime": 13,
    "lastSuccessfullyExecutedCode": "df['time'] = df['time'].astype('category')\ndf.info()\nprint('\\n', df['time'].unique())"
   },
   "outputs": [
    {
     "name": "stdout",
     "output_type": "stream",
     "text": [
      "<class 'pandas.core.frame.DataFrame'>\n",
      "RangeIndex: 1500 entries, 0 to 1499\n",
      "Data columns (total 8 columns):\n",
      " #   Column            Non-Null Count  Dtype   \n",
      "---  ------            --------------  -----   \n",
      " 0   booking_id        1500 non-null   int64   \n",
      " 1   months_as_member  1500 non-null   int64   \n",
      " 2   weight            1500 non-null   float64 \n",
      " 3   days_before       1500 non-null   int64   \n",
      " 4   day_of_week       1500 non-null   category\n",
      " 5   time              1500 non-null   category\n",
      " 6   category          1500 non-null   object  \n",
      " 7   attended          1500 non-null   int64   \n",
      "dtypes: category(2), float64(1), int64(4), object(1)\n",
      "memory usage: 73.8+ KB\n",
      "\n",
      " ['PM', 'AM']\n",
      "Categories (2, object): ['AM', 'PM']\n"
     ]
    }
   ],
   "source": [
    "df['time'] = df['time'].astype('category')\n",
    "df.info()\n",
    "print('\\n', df['time'].unique())"
   ]
  },
  {
   "cell_type": "markdown",
   "id": "d11c964e-5ad3-4a48-9525-9e73cda4ed13",
   "metadata": {},
   "source": [
    "### After replacing missing values with 'unknown' and converting the data type in the 'category' column"
   ]
  },
  {
   "cell_type": "code",
   "execution_count": 622,
   "id": "a221666b-7e36-4483-832a-9cc21d8334cb",
   "metadata": {
    "executionTime": 12,
    "lastSuccessfullyExecutedCode": "df['category'] = df['category'].str.replace('-', 'unknown').astype('category')\ndf.info()\nprint('\\n', df['category'].unique())"
   },
   "outputs": [
    {
     "name": "stdout",
     "output_type": "stream",
     "text": [
      "<class 'pandas.core.frame.DataFrame'>\n",
      "RangeIndex: 1500 entries, 0 to 1499\n",
      "Data columns (total 8 columns):\n",
      " #   Column            Non-Null Count  Dtype   \n",
      "---  ------            --------------  -----   \n",
      " 0   booking_id        1500 non-null   int64   \n",
      " 1   months_as_member  1500 non-null   int64   \n",
      " 2   weight            1500 non-null   float64 \n",
      " 3   days_before       1500 non-null   int64   \n",
      " 4   day_of_week       1500 non-null   category\n",
      " 5   time              1500 non-null   category\n",
      " 6   category          1500 non-null   category\n",
      " 7   attended          1500 non-null   int64   \n",
      "dtypes: category(3), float64(1), int64(4)\n",
      "memory usage: 63.8 KB\n",
      "\n",
      " ['Strength', 'HIIT', 'Cycling', 'Yoga', 'unknown', 'Aqua']\n",
      "Categories (6, object): ['Aqua', 'Cycling', 'HIIT', 'Strength', 'Yoga', 'unknown']\n"
     ]
    }
   ],
   "source": [
    "df['category'] = df['category'].str.replace('-', 'unknown').astype('category')\n",
    "df.info()\n",
    "print('\\n', df['category'].unique())"
   ]
  },
  {
   "cell_type": "markdown",
   "id": "1461dc9d-5169-4b58-ba87-3df90747a175",
   "metadata": {},
   "source": [
    "# Exploratory Analysis"
   ]
  },
  {
   "cell_type": "markdown",
   "id": "99528b52-6372-42e3-b53a-838099dbad26",
   "metadata": {},
   "source": [
    "From the **Graph 1** we see, that most of the people in the data did not attend the fitness classes. There are only 454 bookings who attended the classes. It is about 30% even across the categories. Therefore, the observations of the variable attended are balanced across categories and we can see it from the **Graph 2**.\n",
    "\n",
    "From the **Graph 3** we can see that most of the people are members of the fitness club for a period from one month to around forty. We also have many outliers. There are 103 outliers. It is around 7% of all observations, which is significant. We are going to remove them so that our model is not affected so much. After we removed the outliers, we check the distribution of months as a member again to be sure that the outliers were removed (**Graph 3.1**).\n",
    "\n",
    "We can see from the **Graph 4** that 'attended' observations have higher values. That means that they are members of the fitness class for a longer period of time. It is easier to see after we removed the outliers."
   ]
  },
  {
   "cell_type": "markdown",
   "id": "0944d9ab-ff5a-4dd3-bd52-e27b91d68581",
   "metadata": {},
   "source": [
    "## Task 2"
   ]
  },
  {
   "cell_type": "markdown",
   "id": "861faf8a-bfcc-4203-a454-7762c0e198d8",
   "metadata": {},
   "source": [
    "### Creating plots"
   ]
  },
  {
   "cell_type": "code",
   "execution_count": 623,
   "id": "ccb12d08-bb7a-44e9-b80d-fcec18a980a5",
   "metadata": {
    "executionTime": 61,
    "lastSuccessfullyExecutedCode": "sns.set_style('whitegrid')\nsns.countplot(x ='attended', data = df).set(title='Graph 1: Count of a target variable - attended');\nprint(len(df[df['attended'] == 0]), '- not attended')\nprint(len(df[df['attended'] == 1]), '- attended')"
   },
   "outputs": [
    {
     "name": "stdout",
     "output_type": "stream",
     "text": [
      "1046 - not attended\n",
      "454 - attended\n"
     ]
    },
    {
     "data": {
      "image/png": "[encoded data removed]",
      "text/plain": [
       "<Figure size 640x480 with 1 Axes>"
      ]
     },
     "metadata": {},
     "output_type": "display_data"
    }
   ],
   "source": [
    "sns.set_style('whitegrid')\n",
    "sns.countplot(x ='attended', data = df).set(title='Graph 1: Count of a target variable - attended');\n",
    "print(len(df[df['attended'] == 0]), '- not attended')\n",
    "print(len(df[df['attended'] == 1]), '- attended')"
   ]
  },
  {
   "cell_type": "code",
   "execution_count": 624,
   "id": "32a840c6-4635-4bc6-9f3a-2f9fe1ff7b3b",
   "metadata": {
    "executionTime": 272,
    "lastSuccessfullyExecutedCode": "sns.countplot(data = df, x = 'category', hue = 'attended').set(title = 'Graph 2: The distribution of a target variable by category', xlabel = 'category', ylabel = 'Count');"
   },
   "outputs": [
    {
     "data": {
      "image/png": "[encoded data removed]",
      "text/plain": [
       "<Figure size 640x480 with 1 Axes>"
      ]
     },
     "metadata": {},
     "output_type": "display_data"
    }
   ],
   "source": [
    "sns.countplot(data = df, x = 'category', hue = 'attended').set(title = 'Graph 2: The distribution of a target variable by category', xlabel = 'category', ylabel = 'Count');"
   ]
  },
  {
   "cell_type": "markdown",
   "id": "c509bc83-41a5-42cf-a865-08dcf8229a16",
   "metadata": {},
   "source": [
    "## Task 3"
   ]
  },
  {
   "cell_type": "markdown",
   "id": "fca00063-d7a3-4afc-91fe-6b2063ec7785",
   "metadata": {},
   "source": [
    "### Creating a plot of the distribution of the months_as_member column"
   ]
  },
  {
   "cell_type": "code",
   "execution_count": 625,
   "id": "6cb29ebe-a4c2-4a5b-ab24-e157de72e573",
   "metadata": {
    "executionTime": 129,
    "lastSuccessfullyExecutedCode": "sns.set_style('whitegrid')\nsns.boxplot(x = 'months_as_member', data = df).set(title='Graph 3: The distribution of months as a member');"
   },
   "outputs": [
    {
     "data": {
      "image/png": "[encoded data removed]",
      "text/plain": [
       "<Figure size 640x480 with 1 Axes>"
      ]
     },
     "metadata": {},
     "output_type": "display_data"
    }
   ],
   "source": [
    "sns.set_style('whitegrid')\n",
    "sns.boxplot(x = 'months_as_member', data = df).set(title='Graph 3: The distribution of months as a member');"
   ]
  },
  {
   "cell_type": "markdown",
   "id": "a37a1c8a-e54f-416e-8a31-7bdd8250b0f3",
   "metadata": {},
   "source": [
    "### Finding and removing outliers"
   ]
  },
  {
   "cell_type": "code",
   "execution_count": 626,
   "id": "13299392-077a-4296-90f0-c71c18ab150c",
   "metadata": {
    "executionTime": 101,
    "lastSuccessfullyExecutedCode": "# we are going to see how many there are outliers in \"months_as_member\" variable\ndef detect_outlier(data):\n    # find q1 and q3 values\n    q1, q3 = np.percentile(sorted(data), [25, 75])\n \n    # compute IQR\n    iqr = q3 - q1\n \n    # find lower and upper bounds\n    lower_bound = q1 - (1.5 * iqr)\n    upper_bound = q3 + (1.5 * iqr)\n \n    outliers = [x for x in data if x <= lower_bound or x >= upper_bound]\n \n    return outliers\n \n# input data\noutliers = detect_outlier(df['months_as_member'])\nprint(\"Outliers:\", outliers)\nprint(len(outliers), \"data points are outliers\")\nprint(\"The percent of outliers: \", (len(outliers) / len(df['months_as_member']) * 100))\n\n# we are going to remove the outliers and see what happens.\ndf = df[df.months_as_member.isin(outliers) == False]\nprint(df['months_as_member'].isin(outliers).any())"
   },
   "outputs": [
    {
     "name": "stdout",
     "output_type": "stream",
     "text": [
      "Outliers: [53, 73, 55, 54, 76, 62, 42, 105, 90, 60, 107, 52, 53, 37, 37, 38, 48, 51, 40, 89, 57, 36, 52, 38, 38, 44, 39, 41, 57, 36, 38, 47, 58, 36, 39, 66, 48, 73, 41, 45, 43, 61, 48, 38, 50, 40, 65, 55, 39, 50, 45, 38, 41, 36, 52, 39, 39, 36, 43, 97, 41, 36, 55, 37, 39, 57, 37, 39, 43, 66, 44, 37, 36, 39, 47, 65, 42, 38, 37, 59, 51, 38, 36, 38, 41, 93, 41, 43, 41, 38, 54, 42, 148, 58, 111, 48, 53, 57, 38, 39, 69, 42, 54]\n",
      "103 data points are outliers\n",
      "The percent of outliers:  6.866666666666667\n",
      "False\n"
     ]
    }
   ],
   "source": [
    "# we are going to see how many there are outliers in \"months_as_member\" variable\n",
    "def detect_outlier(data):\n",
    "    # find q1 and q3 values\n",
    "    q1, q3 = np.percentile(sorted(data), [25, 75])\n",
    " \n",
    "    # compute IQR\n",
    "    iqr = q3 - q1\n",
    " \n",
    "    # find lower and upper bounds\n",
    "    lower_bound = q1 - (1.5 * iqr)\n",
    "    upper_bound = q3 + (1.5 * iqr)\n",
    " \n",
    "    outliers = [x for x in data if x <= lower_bound or x >= upper_bound]\n",
    " \n",
    "    return outliers\n",
    " \n",
    "# input data\n",
    "outliers = detect_outlier(df['months_as_member'])\n",
    "print(\"Outliers:\", outliers)\n",
    "print(len(outliers), \"data points are outliers\")\n",
    "print(\"The percent of outliers: \", (len(outliers) / len(df['months_as_member']) * 100))\n",
    "\n",
    "# we are going to remove the outliers and see what happens.\n",
    "df = df[df.months_as_member.isin(outliers) == False]\n",
    "print(df['months_as_member'].isin(outliers).any())"
   ]
  },
  {
   "cell_type": "markdown",
   "id": "841af2e3-a29d-4ff7-a498-29ffec5f444c",
   "metadata": {},
   "source": [
    "### Checking outliers again"
   ]
  },
  {
   "cell_type": "code",
   "execution_count": 627,
   "id": "a1ae733a-ae41-4328-b62f-7542ca8dcafb",
   "metadata": {
    "executionTime": 102,
    "lastSuccessfullyExecutedCode": "sns.set_style('whitegrid')\nsns.boxplot(x = 'months_as_member', data = df).set(title='Graph 3.1: The distribution of months as a member');\nprint(df['months_as_member'].info())"
   },
   "outputs": [
    {
     "name": "stdout",
     "output_type": "stream",
     "text": [
      "<class 'pandas.core.series.Series'>\n",
      "Int64Index: 1397 entries, 0 to 1499\n",
      "Series name: months_as_member\n",
      "Non-Null Count  Dtype\n",
      "--------------  -----\n",
      "1397 non-null   int64\n",
      "dtypes: int64(1)\n",
      "memory usage: 21.8 KB\n",
      "None\n"
     ]
    },
    {
     "data": {
      "image/png": "[encoded data removed]",
      "text/plain": [
       "<Figure size 640x480 with 1 Axes>"
      ]
     },
     "metadata": {},
     "output_type": "display_data"
    }
   ],
   "source": [
    "sns.set_style('whitegrid')\n",
    "sns.boxplot(x = 'months_as_member', data = df).set(title='Graph 3.1: The distribution of months as a member');\n",
    "print(df['months_as_member'].info())"
   ]
  },
  {
   "cell_type": "markdown",
   "id": "65c6ee0d-218a-42ae-bd76-da6ee4303e19",
   "metadata": {},
   "source": [
    "Since the previous outliers were removed our observations are now more equally distributed."
   ]
  },
  {
   "cell_type": "markdown",
   "id": "17cca003-71ad-4d7e-989b-09aa51ae0aba",
   "metadata": {},
   "source": [
    "## Task 4"
   ]
  },
  {
   "cell_type": "markdown",
   "id": "15a9d32b-c433-4ee4-98b5-f8646c7b75e8",
   "metadata": {},
   "source": [
    "### Looking at the relationship between two variables"
   ]
  },
  {
   "cell_type": "code",
   "execution_count": 628,
   "id": "a1002dfb-1ed9-403b-bc85-5a6aef274e4b",
   "metadata": {
    "executionTime": 154,
    "lastSuccessfullyExecutedCode": "sns.set_style('whitegrid')\nsns.boxplot(data=df, x='attended',y='months_as_member',linewidth=0.8).set(title='Graph 4: attended vs months_as_member');"
   },
   "outputs": [
    {
     "data": {
      "image/png": "[encoded data removed]",
      "text/plain": [
       "<Figure size 640x480 with 1 Axes>"
      ]
     },
     "metadata": {},
     "output_type": "display_data"
    }
   ],
   "source": [
    "sns.set_style('whitegrid')\n",
    "sns.boxplot(data=df, x='attended',y='months_as_member',linewidth=0.8).set(title='Graph 4: attended vs months_as_member');"
   ]
  },
  {
   "cell_type": "markdown",
   "id": "536b5ab9-614a-4aae-8fa4-01a0d6de4683",
   "metadata": {},
   "source": [
    "# Model Fitting"
   ]
  },
  {
   "cell_type": "markdown",
   "id": "9fd4d46e-5bc2-4dfc-ae2a-c99aa1cc9a86",
   "metadata": {},
   "source": [
    "### Making changes to enable modeling"
   ]
  },
  {
   "cell_type": "markdown",
   "id": "72de4d82-5d42-46e5-9f55-272cbbed6cdb",
   "metadata": {},
   "source": [
    "First, I preapared the data for modeling. I dropped the column that won't be useful for us. Then I found out that this is a **classification** problem in machine learning. After that I chose the **Logistic Regression model** as a baseline model because it is very efficient to train and interpret. The comparison model I chose is the **Decision Tree model** because it works well with mixed data type and is relatively easy to explain to diverse audiences."
   ]
  },
  {
   "cell_type": "code",
   "execution_count": 629,
   "id": "0bad5e68-406e-452f-9ea8-c679d40d75cd",
   "metadata": {
    "executionTime": 99,
    "lastSuccessfullyExecutedCode": "df = df.drop(columns=['booking_id'])\ndf.info()"
   },
   "outputs": [
    {
     "name": "stdout",
     "output_type": "stream",
     "text": [
      "<class 'pandas.core.frame.DataFrame'>\n",
      "Int64Index: 1397 entries, 0 to 1499\n",
      "Data columns (total 7 columns):\n",
      " #   Column            Non-Null Count  Dtype   \n",
      "---  ------            --------------  -----   \n",
      " 0   months_as_member  1397 non-null   int64   \n",
      " 1   weight            1397 non-null   float64 \n",
      " 2   days_before       1397 non-null   int64   \n",
      " 3   day_of_week       1397 non-null   category\n",
      " 4   time              1397 non-null   category\n",
      " 5   category          1397 non-null   category\n",
      " 6   attended          1397 non-null   int64   \n",
      "dtypes: category(3), float64(1), int64(3)\n",
      "memory usage: 59.3 KB\n"
     ]
    }
   ],
   "source": [
    "df = df.drop(columns=['booking_id'])\n",
    "df.info()"
   ]
  },
  {
   "cell_type": "code",
   "execution_count": 630,
   "id": "1de27a44-fdd5-409d-a829-946b06e11848",
   "metadata": {
    "executionTime": 0,
    "lastSuccessfullyExecutedCode": "from sklearn import preprocessing\nfeatures = df.drop(columns='attended')\nX = pd.get_dummies(features, columns=['day_of_week','time','category'])\ny = df['attended']"
   },
   "outputs": [],
   "source": [
    "from sklearn import preprocessing\n",
    "features = df.drop(columns='attended')\n",
    "X = pd.get_dummies(features, columns=['day_of_week','time','category'])\n",
    "y = df['attended']"
   ]
  },
  {
   "cell_type": "markdown",
   "id": "66e07a44-f276-4516-87ce-e460d3f1a33a",
   "metadata": {},
   "source": [
    "## Task 5\n",
    "The business wants to predict whether members will attend using the data provided. That is a **classification** problem in machine learning."
   ]
  },
  {
   "cell_type": "code",
   "execution_count": 631,
   "id": "bbd58713-9a7f-4c31-a7f2-12258859822d",
   "metadata": {
    "executionTime": 0,
    "lastSuccessfullyExecutedCode": "#import ML models and peformance metrics\nfrom sklearn.linear_model import LogisticRegression \nfrom sklearn.tree import DecisionTreeClassifier \nfrom sklearn.model_selection import train_test_split \nfrom sklearn.metrics import classification_report\nfrom sklearn.metrics import confusion_matrix\n\n# Split dataset into 65% training set and 35% test set\nX_train, X_test, y_train, y_test = train_test_split(X, y, test_size=0.35, random_state=123)"
   },
   "outputs": [],
   "source": [
    "#import ML models and peformance metrics\n",
    "from sklearn.linear_model import LogisticRegression \n",
    "from sklearn.tree import DecisionTreeClassifier \n",
    "from sklearn.model_selection import train_test_split \n",
    "from sklearn.metrics import classification_report\n",
    "from sklearn.metrics import confusion_matrix\n",
    "\n",
    "# Split dataset into 65% training set and 35% test set\n",
    "X_train, X_test, y_train, y_test = train_test_split(X, y, test_size=0.35, random_state=123)"
   ]
  },
  {
   "cell_type": "markdown",
   "id": "8b20fa2e-da87-4cf4-9591-157a0837891e",
   "metadata": {},
   "source": [
    "## Task 6"
   ]
  },
  {
   "cell_type": "markdown",
   "id": "c0ed3874-ef99-4994-8721-af465f3b6c99",
   "metadata": {},
   "source": [
    "### Fitting a baseline model"
   ]
  },
  {
   "cell_type": "markdown",
   "id": "5f7f5e10-c757-48e6-b60a-90082f8632b8",
   "metadata": {},
   "source": [
    "## Method #1 Logistic Regression Model"
   ]
  },
  {
   "cell_type": "code",
   "execution_count": 632,
   "id": "5bdfe672-9508-4043-a32c-413bfa30f6cf",
   "metadata": {
    "executionTime": 258,
    "lastSuccessfullyExecutedCode": "logreg = LogisticRegression()\nlogreg.fit(X_train,y_train)\ny_pred_log = logreg.predict(X_test)"
   },
   "outputs": [],
   "source": [
    "logreg = LogisticRegression()\n",
    "logreg.fit(X_train,y_train)\n",
    "y_pred_log = logreg.predict(X_test)"
   ]
  },
  {
   "cell_type": "markdown",
   "id": "b7f0dcc4-98c7-43fe-8ee2-629aac60c421",
   "metadata": {},
   "source": [
    "## Task 7"
   ]
  },
  {
   "cell_type": "markdown",
   "id": "75456187-553e-4062-b56c-2cdfd8f9b92b",
   "metadata": {},
   "source": [
    "### Fitting a comparison model"
   ]
  },
  {
   "cell_type": "markdown",
   "id": "3cac18e3-a385-4d3a-8cd0-043057a2b537",
   "metadata": {},
   "source": [
    "## Method #2 Decision Tree Model"
   ]
  },
  {
   "cell_type": "code",
   "execution_count": 633,
   "id": "26fba0ed-3154-4f30-b10b-96fde72c6129",
   "metadata": {
    "executionTime": 0,
    "lastSuccessfullyExecutedCode": "# Create Decision Tree classifer object\nclf = DecisionTreeClassifier()\nclf = clf.fit(X_train,y_train)\ny_pred_clf = clf.predict(X_test)"
   },
   "outputs": [],
   "source": [
    "# Create Decision Tree classifer object\n",
    "clf = DecisionTreeClassifier()\n",
    "clf = clf.fit(X_train,y_train)\n",
    "y_pred_clf = clf.predict(X_test)"
   ]
  },
  {
   "cell_type": "markdown",
   "id": "5cec4b2d-86fd-4ce3-9f9c-e9ab2ec0e436",
   "metadata": {},
   "source": [
    "## Task 8\n",
    "I am choosing the **Logistic Regression model** as a baseline model because it is very efficient to train and interpret. The comparison model I am choosing is the **Decision Tree model** because it works well with mixed data type and is relatively easy to explain to diverse audiences."
   ]
  },
  {
   "cell_type": "markdown",
   "id": "b7d97bc1-b20a-47f0-b075-707c88e91e9c",
   "metadata": {},
   "source": [
    "# Model Evaluation"
   ]
  },
  {
   "cell_type": "markdown",
   "id": "f7b9e13f-a67f-437e-9979-1bbabba16512",
   "metadata": {},
   "source": [
    "I am choosing **accuracy** to evaluate the model because it is easy to interpret. Accuracy focuses on correct predictions of all predictions.\n",
    "\n",
    "The **accuracy** of the **Logistic Regression model** and **Decision Tree model** is **_0.79_** and **_0.71_**, meaning the **Logistic Regression model** predicts more correctly whether a member will attend a class or not.\n",
    "\n",
    "From this metric, we can conclude that the **Logistic Regression model** has a higher chance of that prediction being correct."
   ]
  },
  {
   "cell_type": "markdown",
   "id": "84fc2a09-ea39-4a6f-85b2-5d17957e1ac5",
   "metadata": {},
   "source": [
    "## Task 9"
   ]
  },
  {
   "cell_type": "markdown",
   "id": "83f01a94-b373-49a0-ae87-90464898e63f",
   "metadata": {},
   "source": [
    "## Evaluating the performance of the models"
   ]
  },
  {
   "cell_type": "markdown",
   "id": "aa8960a7-95c3-4805-8dd1-5ce06d4ab601",
   "metadata": {},
   "source": [
    "**Evaluating Logistic Regression Model**"
   ]
  },
  {
   "cell_type": "code",
   "execution_count": 634,
   "id": "eb6a074e-b049-4b04-abb4-f5473ad9def3",
   "metadata": {
    "executionTime": 70,
    "lastSuccessfullyExecutedCode": "print(classification_report(y_test, y_pred_log))"
   },
   "outputs": [
    {
     "name": "stdout",
     "output_type": "stream",
     "text": [
      "              precision    recall  f1-score   support\n",
      "\n",
      "           0       0.81      0.93      0.87       367\n",
      "           1       0.63      0.35      0.45       122\n",
      "\n",
      "    accuracy                           0.79       489\n",
      "   macro avg       0.72      0.64      0.66       489\n",
      "weighted avg       0.77      0.79      0.76       489\n",
      "\n"
     ]
    }
   ],
   "source": [
    "print(classification_report(y_test, y_pred_log))"
   ]
  },
  {
   "cell_type": "markdown",
   "id": "73618272-7815-44c2-ba35-5e113df44638",
   "metadata": {},
   "source": [
    "**Evaluating Decision Tree Model**"
   ]
  },
  {
   "cell_type": "code",
   "execution_count": 635,
   "id": "f840185c-e705-4c6a-9586-572b1321dadd",
   "metadata": {
    "executionTime": 10,
    "lastSuccessfullyExecutedCode": "print(classification_report(y_test, y_pred_clf))"
   },
   "outputs": [
    {
     "name": "stdout",
     "output_type": "stream",
     "text": [
      "              precision    recall  f1-score   support\n",
      "\n",
      "           0       0.82      0.79      0.81       367\n",
      "           1       0.43      0.48      0.46       122\n",
      "\n",
      "    accuracy                           0.71       489\n",
      "   macro avg       0.63      0.64      0.63       489\n",
      "weighted avg       0.72      0.71      0.72       489\n",
      "\n"
     ]
    }
   ],
   "source": [
    "print(classification_report(y_test, y_pred_clf))"
   ]
  },
  {
   "cell_type": "markdown",
   "id": "feb9e1eb-8913-43b8-a280-a369cf10631e",
   "metadata": {},
   "source": [
    "## Task 10\n",
    "The accuracy of the **Logistic Regression model** and **Decision Tree model** is _**0.79**_ and _**0.71**_. That means the **Logistic Regression model** predicts more correctly whether a person will attend a class or not since it has a higher accuracy."
   ]
  }
 ],
 "metadata": {
  "colab": {
   "name": "Welcome to DataCamp Workspaces.ipynb",
   "provenance": []
  },
  "kernelspec": {
   "display_name": "Python 3 (ipykernel)",
   "language": "python",
   "name": "python3"
  },
  "language_info": {
   "codemirror_mode": {
    "name": "ipython",
    "version": 3
   },
   "file_extension": ".py",
   "mimetype": "text/x-python",
   "name": "python",
   "nbconvert_exporter": "python",
   "pygments_lexer": "ipython3",
   "version": "3.9.13"
  }
 },
 "nbformat": 4,
 "nbformat_minor": 5
}
